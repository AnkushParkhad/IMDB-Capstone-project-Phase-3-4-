{
 "cells": [
  {
   "cell_type": "markdown",
   "id": "11e59c74",
   "metadata": {},
   "source": [
    "## Phase 3\n"
   ]
  },
  {
   "cell_type": "code",
   "execution_count": 2,
   "id": "60917fcb",
   "metadata": {},
   "outputs": [],
   "source": [
    "import pandas as pd\n",
    "import numpy as np\n",
    "import warnings\n",
    "warnings.filterwarnings('ignore')\n",
    "\n",
    "import matplotlib.pyplot as plt\n",
    "import seaborn as sns"
   ]
  },
  {
   "cell_type": "code",
   "execution_count": 6,
   "id": "04861a22",
   "metadata": {},
   "outputs": [
    {
     "data": {
      "text/html": [
       "<div>\n",
       "<style scoped>\n",
       "    .dataframe tbody tr th:only-of-type {\n",
       "        vertical-align: middle;\n",
       "    }\n",
       "\n",
       "    .dataframe tbody tr th {\n",
       "        vertical-align: top;\n",
       "    }\n",
       "\n",
       "    .dataframe thead th {\n",
       "        text-align: right;\n",
       "    }\n",
       "</style>\n",
       "<table border=\"1\" class=\"dataframe\">\n",
       "  <thead>\n",
       "    <tr style=\"text-align: right;\">\n",
       "      <th></th>\n",
       "      <th>Serial no.</th>\n",
       "      <th>Movie Name</th>\n",
       "      <th>Director 1</th>\n",
       "      <th>Director 2</th>\n",
       "      <th>Director 3</th>\n",
       "      <th>Director 4</th>\n",
       "      <th>Director 5</th>\n",
       "      <th>Director 6</th>\n",
       "      <th>Duration</th>\n",
       "      <th>Year of Release</th>\n",
       "      <th>Ratings</th>\n",
       "      <th>Metascore</th>\n",
       "    </tr>\n",
       "  </thead>\n",
       "  <tbody>\n",
       "    <tr>\n",
       "      <th>0</th>\n",
       "      <td>1</td>\n",
       "      <td>Spider-Man: Across the Spider-Verse</td>\n",
       "      <td>Joaquim Dos Santos</td>\n",
       "      <td>Kemp Powers</td>\n",
       "      <td>Justin K. Thompson</td>\n",
       "      <td>NaN</td>\n",
       "      <td>NaN</td>\n",
       "      <td>NaN</td>\n",
       "      <td>140 min</td>\n",
       "      <td>-2023</td>\n",
       "      <td>9.0</td>\n",
       "      <td>86.0</td>\n",
       "    </tr>\n",
       "    <tr>\n",
       "      <th>1</th>\n",
       "      <td>2</td>\n",
       "      <td>The Dark Knight</td>\n",
       "      <td>Christopher Nolan</td>\n",
       "      <td>NaN</td>\n",
       "      <td>NaN</td>\n",
       "      <td>NaN</td>\n",
       "      <td>NaN</td>\n",
       "      <td>NaN</td>\n",
       "      <td>152 min</td>\n",
       "      <td>-2008</td>\n",
       "      <td>9.0</td>\n",
       "      <td>84.0</td>\n",
       "    </tr>\n",
       "    <tr>\n",
       "      <th>2</th>\n",
       "      <td>3</td>\n",
       "      <td>The Lord of the Rings: The Return of the King</td>\n",
       "      <td>Peter Jackson</td>\n",
       "      <td>NaN</td>\n",
       "      <td>NaN</td>\n",
       "      <td>NaN</td>\n",
       "      <td>NaN</td>\n",
       "      <td>NaN</td>\n",
       "      <td>201 min</td>\n",
       "      <td>-2003</td>\n",
       "      <td>9.0</td>\n",
       "      <td>94.0</td>\n",
       "    </tr>\n",
       "    <tr>\n",
       "      <th>3</th>\n",
       "      <td>4</td>\n",
       "      <td>Inception</td>\n",
       "      <td>Christopher Nolan</td>\n",
       "      <td>NaN</td>\n",
       "      <td>NaN</td>\n",
       "      <td>NaN</td>\n",
       "      <td>NaN</td>\n",
       "      <td>NaN</td>\n",
       "      <td>148 min</td>\n",
       "      <td>-2010</td>\n",
       "      <td>8.8</td>\n",
       "      <td>74.0</td>\n",
       "    </tr>\n",
       "    <tr>\n",
       "      <th>4</th>\n",
       "      <td>5</td>\n",
       "      <td>The Lord of the Rings: The Fellowship of the ...</td>\n",
       "      <td>Peter Jackson</td>\n",
       "      <td>NaN</td>\n",
       "      <td>NaN</td>\n",
       "      <td>NaN</td>\n",
       "      <td>NaN</td>\n",
       "      <td>NaN</td>\n",
       "      <td>178 min</td>\n",
       "      <td>-2001</td>\n",
       "      <td>8.8</td>\n",
       "      <td>92.0</td>\n",
       "    </tr>\n",
       "  </tbody>\n",
       "</table>\n",
       "</div>"
      ],
      "text/plain": [
       "   Serial no.                                         Movie Name  \\\n",
       "0           1               Spider-Man: Across the Spider-Verse    \n",
       "1           2                                   The Dark Knight    \n",
       "2           3     The Lord of the Rings: The Return of the King    \n",
       "3           4                                         Inception    \n",
       "4           5   The Lord of the Rings: The Fellowship of the ...   \n",
       "\n",
       "            Director 1    Director 2            Director 3 Director 4  \\\n",
       "0   Joaquim Dos Santos   Kemp Powers   Justin K. Thompson         NaN   \n",
       "1   Christopher Nolan            NaN                   NaN        NaN   \n",
       "2       Peter Jackson            NaN                   NaN        NaN   \n",
       "3   Christopher Nolan            NaN                   NaN        NaN   \n",
       "4       Peter Jackson            NaN                   NaN        NaN   \n",
       "\n",
       "  Director 5 Director 6 Duration Year of Release  Ratings  Metascore  \n",
       "0        NaN        NaN  140 min           -2023      9.0       86.0  \n",
       "1        NaN        NaN  152 min           -2008      9.0       84.0  \n",
       "2        NaN        NaN  201 min           -2003      9.0       94.0  \n",
       "3        NaN        NaN  148 min           -2010      8.8       74.0  \n",
       "4        NaN        NaN  178 min           -2001      8.8       92.0  "
      ]
     },
     "execution_count": 6,
     "metadata": {},
     "output_type": "execute_result"
    }
   ],
   "source": [
    "#Reading first csv file\n",
    "csv_1=pd.read_csv(r'Downloads/IMDB_df1.csv')\n",
    "csv_1.head()"
   ]
  },
  {
   "cell_type": "code",
   "execution_count": 8,
   "id": "8f086148",
   "metadata": {},
   "outputs": [
    {
     "data": {
      "text/html": [
       "<div>\n",
       "<style scoped>\n",
       "    .dataframe tbody tr th:only-of-type {\n",
       "        vertical-align: middle;\n",
       "    }\n",
       "\n",
       "    .dataframe tbody tr th {\n",
       "        vertical-align: top;\n",
       "    }\n",
       "\n",
       "    .dataframe thead th {\n",
       "        text-align: right;\n",
       "    }\n",
       "</style>\n",
       "<table border=\"1\" class=\"dataframe\">\n",
       "  <thead>\n",
       "    <tr style=\"text-align: right;\">\n",
       "      <th></th>\n",
       "      <th>Movie Name</th>\n",
       "      <th>Star 1</th>\n",
       "      <th>Star 2</th>\n",
       "      <th>Star 3</th>\n",
       "      <th>Star 4</th>\n",
       "      <th>Votes</th>\n",
       "      <th>Genre 1</th>\n",
       "      <th>Genre 2</th>\n",
       "      <th>Genre 3</th>\n",
       "      <th>Gross Collection</th>\n",
       "      <th>Certification</th>\n",
       "    </tr>\n",
       "  </thead>\n",
       "  <tbody>\n",
       "    <tr>\n",
       "      <th>0</th>\n",
       "      <td>Spider-Man: Across the Spider-Verse</td>\n",
       "      <td>Shameik Moore</td>\n",
       "      <td>Hailee Steinfeld</td>\n",
       "      <td>Brian Tyree Henry</td>\n",
       "      <td>Luna Lauren Velez</td>\n",
       "      <td>106940</td>\n",
       "      <td>Animation</td>\n",
       "      <td>Action</td>\n",
       "      <td>Adventure</td>\n",
       "      <td>NaN</td>\n",
       "      <td>U</td>\n",
       "    </tr>\n",
       "    <tr>\n",
       "      <th>1</th>\n",
       "      <td>The Dark Knight</td>\n",
       "      <td>Christian Bale</td>\n",
       "      <td>Heath Ledger</td>\n",
       "      <td>Aaron Eckhart</td>\n",
       "      <td>Michael Caine</td>\n",
       "      <td>2723579</td>\n",
       "      <td>Action</td>\n",
       "      <td>Crime</td>\n",
       "      <td>Drama</td>\n",
       "      <td>$534.86M</td>\n",
       "      <td>UA</td>\n",
       "    </tr>\n",
       "    <tr>\n",
       "      <th>2</th>\n",
       "      <td>The Lord of the Rings: The Return of the King</td>\n",
       "      <td>Elijah Wood</td>\n",
       "      <td>Viggo Mortensen</td>\n",
       "      <td>Ian McKellen</td>\n",
       "      <td>Orlando Bloom</td>\n",
       "      <td>1890039</td>\n",
       "      <td>Action</td>\n",
       "      <td>Adventure</td>\n",
       "      <td>Drama</td>\n",
       "      <td>$377.85M</td>\n",
       "      <td>U</td>\n",
       "    </tr>\n",
       "    <tr>\n",
       "      <th>3</th>\n",
       "      <td>Inception</td>\n",
       "      <td>Leonardo DiCaprio</td>\n",
       "      <td>Joseph Gordon-Levitt</td>\n",
       "      <td>Elliot Page</td>\n",
       "      <td>Ken Watanabe</td>\n",
       "      <td>2417423</td>\n",
       "      <td>Action</td>\n",
       "      <td>Adventure</td>\n",
       "      <td>Sci-Fi</td>\n",
       "      <td>$292.58M</td>\n",
       "      <td>UA</td>\n",
       "    </tr>\n",
       "    <tr>\n",
       "      <th>4</th>\n",
       "      <td>The Lord of the Rings: The Fellowship of the ...</td>\n",
       "      <td>Elijah Wood</td>\n",
       "      <td>Ian McKellen</td>\n",
       "      <td>Orlando Bloom</td>\n",
       "      <td>Sean Bean</td>\n",
       "      <td>1918633</td>\n",
       "      <td>Action</td>\n",
       "      <td>Adventure</td>\n",
       "      <td>Drama</td>\n",
       "      <td>$315.54M</td>\n",
       "      <td>U</td>\n",
       "    </tr>\n",
       "  </tbody>\n",
       "</table>\n",
       "</div>"
      ],
      "text/plain": [
       "                                          Movie Name              Star 1  \\\n",
       "0               Spider-Man: Across the Spider-Verse        Shameik Moore   \n",
       "1                                   The Dark Knight       Christian Bale   \n",
       "2     The Lord of the Rings: The Return of the King          Elijah Wood   \n",
       "3                                         Inception    Leonardo DiCaprio   \n",
       "4   The Lord of the Rings: The Fellowship of the ...         Elijah Wood   \n",
       "\n",
       "                  Star 2              Star 3              Star 4    Votes  \\\n",
       "0       Hailee Steinfeld   Brian Tyree Henry   Luna Lauren Velez   106940   \n",
       "1           Heath Ledger       Aaron Eckhart       Michael Caine  2723579   \n",
       "2        Viggo Mortensen        Ian McKellen       Orlando Bloom  1890039   \n",
       "3   Joseph Gordon-Levitt         Elliot Page        Ken Watanabe  2417423   \n",
       "4           Ian McKellen       Orlando Bloom           Sean Bean  1918633   \n",
       "\n",
       "     Genre 1     Genre 2     Genre 3 Gross Collection Certification  \n",
       "0  Animation      Action   Adventure              NaN             U  \n",
       "1     Action       Crime       Drama         $534.86M            UA  \n",
       "2     Action   Adventure       Drama         $377.85M             U  \n",
       "3     Action   Adventure      Sci-Fi         $292.58M            UA  \n",
       "4     Action   Adventure       Drama         $315.54M             U  "
      ]
     },
     "execution_count": 8,
     "metadata": {},
     "output_type": "execute_result"
    }
   ],
   "source": [
    "#reading second csv file\n",
    "csv_2=pd.read_csv(r'Downloads/IMDB_df2.csv')\n",
    "csv_2.head()"
   ]
  },
  {
   "cell_type": "code",
   "execution_count": 14,
   "id": "03fb66a4",
   "metadata": {},
   "outputs": [
    {
     "data": {
      "text/html": [
       "<div>\n",
       "<style scoped>\n",
       "    .dataframe tbody tr th:only-of-type {\n",
       "        vertical-align: middle;\n",
       "    }\n",
       "\n",
       "    .dataframe tbody tr th {\n",
       "        vertical-align: top;\n",
       "    }\n",
       "\n",
       "    .dataframe thead th {\n",
       "        text-align: right;\n",
       "    }\n",
       "</style>\n",
       "<table border=\"1\" class=\"dataframe\">\n",
       "  <thead>\n",
       "    <tr style=\"text-align: right;\">\n",
       "      <th></th>\n",
       "      <th>Serial no.</th>\n",
       "      <th>Movie Name</th>\n",
       "      <th>Director 1</th>\n",
       "      <th>Director 2</th>\n",
       "      <th>Director 3</th>\n",
       "      <th>Director 4</th>\n",
       "      <th>Director 5</th>\n",
       "      <th>Director 6</th>\n",
       "      <th>Duration</th>\n",
       "      <th>Year of Release</th>\n",
       "      <th>...</th>\n",
       "      <th>Star 1</th>\n",
       "      <th>Star 2</th>\n",
       "      <th>Star 3</th>\n",
       "      <th>Star 4</th>\n",
       "      <th>Votes</th>\n",
       "      <th>Genre 1</th>\n",
       "      <th>Genre 2</th>\n",
       "      <th>Genre 3</th>\n",
       "      <th>Gross Collection</th>\n",
       "      <th>Certification</th>\n",
       "    </tr>\n",
       "  </thead>\n",
       "  <tbody>\n",
       "    <tr>\n",
       "      <th>0</th>\n",
       "      <td>1</td>\n",
       "      <td>Spider-Man: Across the Spider-Verse</td>\n",
       "      <td>Joaquim Dos Santos</td>\n",
       "      <td>Kemp Powers</td>\n",
       "      <td>Justin K. Thompson</td>\n",
       "      <td>NaN</td>\n",
       "      <td>NaN</td>\n",
       "      <td>NaN</td>\n",
       "      <td>140 min</td>\n",
       "      <td>-2023</td>\n",
       "      <td>...</td>\n",
       "      <td>Shameik Moore</td>\n",
       "      <td>Hailee Steinfeld</td>\n",
       "      <td>Brian Tyree Henry</td>\n",
       "      <td>Luna Lauren Velez</td>\n",
       "      <td>106940</td>\n",
       "      <td>Animation</td>\n",
       "      <td>Action</td>\n",
       "      <td>Adventure</td>\n",
       "      <td>NaN</td>\n",
       "      <td>U</td>\n",
       "    </tr>\n",
       "    <tr>\n",
       "      <th>1</th>\n",
       "      <td>2</td>\n",
       "      <td>The Dark Knight</td>\n",
       "      <td>Christopher Nolan</td>\n",
       "      <td>NaN</td>\n",
       "      <td>NaN</td>\n",
       "      <td>NaN</td>\n",
       "      <td>NaN</td>\n",
       "      <td>NaN</td>\n",
       "      <td>152 min</td>\n",
       "      <td>-2008</td>\n",
       "      <td>...</td>\n",
       "      <td>Christian Bale</td>\n",
       "      <td>Heath Ledger</td>\n",
       "      <td>Aaron Eckhart</td>\n",
       "      <td>Michael Caine</td>\n",
       "      <td>2723579</td>\n",
       "      <td>Action</td>\n",
       "      <td>Crime</td>\n",
       "      <td>Drama</td>\n",
       "      <td>$534.86M</td>\n",
       "      <td>UA</td>\n",
       "    </tr>\n",
       "    <tr>\n",
       "      <th>2</th>\n",
       "      <td>3</td>\n",
       "      <td>The Lord of the Rings: The Return of the King</td>\n",
       "      <td>Peter Jackson</td>\n",
       "      <td>NaN</td>\n",
       "      <td>NaN</td>\n",
       "      <td>NaN</td>\n",
       "      <td>NaN</td>\n",
       "      <td>NaN</td>\n",
       "      <td>201 min</td>\n",
       "      <td>-2003</td>\n",
       "      <td>...</td>\n",
       "      <td>Elijah Wood</td>\n",
       "      <td>Viggo Mortensen</td>\n",
       "      <td>Ian McKellen</td>\n",
       "      <td>Orlando Bloom</td>\n",
       "      <td>1890039</td>\n",
       "      <td>Action</td>\n",
       "      <td>Adventure</td>\n",
       "      <td>Drama</td>\n",
       "      <td>$377.85M</td>\n",
       "      <td>U</td>\n",
       "    </tr>\n",
       "    <tr>\n",
       "      <th>3</th>\n",
       "      <td>4</td>\n",
       "      <td>Inception</td>\n",
       "      <td>Christopher Nolan</td>\n",
       "      <td>NaN</td>\n",
       "      <td>NaN</td>\n",
       "      <td>NaN</td>\n",
       "      <td>NaN</td>\n",
       "      <td>NaN</td>\n",
       "      <td>148 min</td>\n",
       "      <td>-2010</td>\n",
       "      <td>...</td>\n",
       "      <td>Leonardo DiCaprio</td>\n",
       "      <td>Joseph Gordon-Levitt</td>\n",
       "      <td>Elliot Page</td>\n",
       "      <td>Ken Watanabe</td>\n",
       "      <td>2417423</td>\n",
       "      <td>Action</td>\n",
       "      <td>Adventure</td>\n",
       "      <td>Sci-Fi</td>\n",
       "      <td>$292.58M</td>\n",
       "      <td>UA</td>\n",
       "    </tr>\n",
       "    <tr>\n",
       "      <th>4</th>\n",
       "      <td>5</td>\n",
       "      <td>The Lord of the Rings: The Fellowship of the ...</td>\n",
       "      <td>Peter Jackson</td>\n",
       "      <td>NaN</td>\n",
       "      <td>NaN</td>\n",
       "      <td>NaN</td>\n",
       "      <td>NaN</td>\n",
       "      <td>NaN</td>\n",
       "      <td>178 min</td>\n",
       "      <td>-2001</td>\n",
       "      <td>...</td>\n",
       "      <td>Elijah Wood</td>\n",
       "      <td>Ian McKellen</td>\n",
       "      <td>Orlando Bloom</td>\n",
       "      <td>Sean Bean</td>\n",
       "      <td>1918633</td>\n",
       "      <td>Action</td>\n",
       "      <td>Adventure</td>\n",
       "      <td>Drama</td>\n",
       "      <td>$315.54M</td>\n",
       "      <td>U</td>\n",
       "    </tr>\n",
       "  </tbody>\n",
       "</table>\n",
       "<p>5 rows × 22 columns</p>\n",
       "</div>"
      ],
      "text/plain": [
       "   Serial no.                                         Movie Name  \\\n",
       "0           1               Spider-Man: Across the Spider-Verse    \n",
       "1           2                                   The Dark Knight    \n",
       "2           3     The Lord of the Rings: The Return of the King    \n",
       "3           4                                         Inception    \n",
       "4           5   The Lord of the Rings: The Fellowship of the ...   \n",
       "\n",
       "            Director 1    Director 2            Director 3 Director 4  \\\n",
       "0   Joaquim Dos Santos   Kemp Powers   Justin K. Thompson         NaN   \n",
       "1   Christopher Nolan            NaN                   NaN        NaN   \n",
       "2       Peter Jackson            NaN                   NaN        NaN   \n",
       "3   Christopher Nolan            NaN                   NaN        NaN   \n",
       "4       Peter Jackson            NaN                   NaN        NaN   \n",
       "\n",
       "  Director 5 Director 6 Duration Year of Release  ...              Star 1  \\\n",
       "0        NaN        NaN  140 min           -2023  ...       Shameik Moore   \n",
       "1        NaN        NaN  152 min           -2008  ...      Christian Bale   \n",
       "2        NaN        NaN  201 min           -2003  ...         Elijah Wood   \n",
       "3        NaN        NaN  148 min           -2010  ...   Leonardo DiCaprio   \n",
       "4        NaN        NaN  178 min           -2001  ...         Elijah Wood   \n",
       "\n",
       "                  Star 2              Star 3              Star 4    Votes  \\\n",
       "0       Hailee Steinfeld   Brian Tyree Henry   Luna Lauren Velez   106940   \n",
       "1           Heath Ledger       Aaron Eckhart       Michael Caine  2723579   \n",
       "2        Viggo Mortensen        Ian McKellen       Orlando Bloom  1890039   \n",
       "3   Joseph Gordon-Levitt         Elliot Page        Ken Watanabe  2417423   \n",
       "4           Ian McKellen       Orlando Bloom           Sean Bean  1918633   \n",
       "\n",
       "     Genre 1     Genre 2     Genre 3 Gross Collection Certification  \n",
       "0  Animation      Action   Adventure              NaN             U  \n",
       "1     Action       Crime       Drama         $534.86M            UA  \n",
       "2     Action   Adventure       Drama         $377.85M             U  \n",
       "3     Action   Adventure      Sci-Fi         $292.58M            UA  \n",
       "4     Action   Adventure       Drama         $315.54M             U  \n",
       "\n",
       "[5 rows x 22 columns]"
      ]
     },
     "execution_count": 14,
     "metadata": {},
     "output_type": "execute_result"
    }
   ],
   "source": [
    "#merging both first and second csv file \n",
    "IMDB_dataset=pd.merge(csv_1, csv_2, on='Movie Name', how='inner')\n",
    "IMDB_dataset.head()"
   ]
  },
  {
   "cell_type": "code",
   "execution_count": 15,
   "id": "cc98552d",
   "metadata": {},
   "outputs": [],
   "source": [
    "# Saving the final joined csv file to a new CSV file\n",
    "IMDB_dataset.to_csv('IMDB_dataset.csv', index=False)"
   ]
  },
  {
   "cell_type": "code",
   "execution_count": 16,
   "id": "365bce7c",
   "metadata": {},
   "outputs": [
    {
     "data": {
      "text/plain": [
       "(1838, 22)"
      ]
     },
     "execution_count": 16,
     "metadata": {},
     "output_type": "execute_result"
    }
   ],
   "source": [
    "#checking the numbers of rows and columns in our dataset\n",
    "IMDB_dataset.shape"
   ]
  },
  {
   "cell_type": "code",
   "execution_count": 17,
   "id": "3aa1ae96",
   "metadata": {},
   "outputs": [
    {
     "name": "stdout",
     "output_type": "stream",
     "text": [
      "<class 'pandas.core.frame.DataFrame'>\n",
      "Int64Index: 1838 entries, 0 to 1837\n",
      "Data columns (total 22 columns):\n",
      " #   Column            Non-Null Count  Dtype  \n",
      "---  ------            --------------  -----  \n",
      " 0   Serial no.        1838 non-null   int64  \n",
      " 1   Movie Name        1838 non-null   object \n",
      " 2   Director 1        1838 non-null   object \n",
      " 3   Director 2        113 non-null    object \n",
      " 4   Director 3        13 non-null     object \n",
      " 5   Director 4        6 non-null      object \n",
      " 6   Director 5        3 non-null      object \n",
      " 7   Director 6        1 non-null      object \n",
      " 8   Duration          1838 non-null   object \n",
      " 9   Year of Release   1838 non-null   object \n",
      " 10  Ratings           1838 non-null   float64\n",
      " 11  Metascore         1645 non-null   float64\n",
      " 12  Star 1            1838 non-null   object \n",
      " 13  Star 2            1837 non-null   object \n",
      " 14  Star 3            1837 non-null   object \n",
      " 15  Star 4            1836 non-null   object \n",
      " 16  Votes             1838 non-null   int64  \n",
      " 17  Genre 1           1838 non-null   object \n",
      " 18  Genre 2           1836 non-null   object \n",
      " 19  Genre 3           1691 non-null   object \n",
      " 20  Gross Collection  1548 non-null   object \n",
      " 21  Certification     1763 non-null   object \n",
      "dtypes: float64(2), int64(2), object(18)\n",
      "memory usage: 330.3+ KB\n"
     ]
    }
   ],
   "source": [
    "#checking the column wise info of the dataframe\n",
    "IMDB_dataset.info()"
   ]
  },
  {
   "cell_type": "markdown",
   "id": "d26e0517",
   "metadata": {},
   "source": [
    "As we can see director 2,3,4,5,6 has majority of the null values so we can drop these columns as dropping them dont affect our dataset that much. \n"
   ]
  },
  {
   "cell_type": "code",
   "execution_count": 18,
   "id": "0fed0d25",
   "metadata": {},
   "outputs": [
    {
     "data": {
      "text/html": [
       "<div>\n",
       "<style scoped>\n",
       "    .dataframe tbody tr th:only-of-type {\n",
       "        vertical-align: middle;\n",
       "    }\n",
       "\n",
       "    .dataframe tbody tr th {\n",
       "        vertical-align: top;\n",
       "    }\n",
       "\n",
       "    .dataframe thead th {\n",
       "        text-align: right;\n",
       "    }\n",
       "</style>\n",
       "<table border=\"1\" class=\"dataframe\">\n",
       "  <thead>\n",
       "    <tr style=\"text-align: right;\">\n",
       "      <th></th>\n",
       "      <th>Movie Name</th>\n",
       "      <th>Director 1</th>\n",
       "      <th>Duration</th>\n",
       "      <th>Year of Release</th>\n",
       "      <th>Ratings</th>\n",
       "      <th>Metascore</th>\n",
       "      <th>Star 1</th>\n",
       "      <th>Star 2</th>\n",
       "      <th>Star 3</th>\n",
       "      <th>Star 4</th>\n",
       "      <th>Votes</th>\n",
       "      <th>Genre 1</th>\n",
       "      <th>Genre 2</th>\n",
       "      <th>Genre 3</th>\n",
       "      <th>Gross Collection</th>\n",
       "      <th>Certification</th>\n",
       "    </tr>\n",
       "  </thead>\n",
       "  <tbody>\n",
       "    <tr>\n",
       "      <th>0</th>\n",
       "      <td>Spider-Man: Across the Spider-Verse</td>\n",
       "      <td>Joaquim Dos Santos</td>\n",
       "      <td>140 min</td>\n",
       "      <td>-2023</td>\n",
       "      <td>9.0</td>\n",
       "      <td>86.0</td>\n",
       "      <td>Shameik Moore</td>\n",
       "      <td>Hailee Steinfeld</td>\n",
       "      <td>Brian Tyree Henry</td>\n",
       "      <td>Luna Lauren Velez</td>\n",
       "      <td>106940</td>\n",
       "      <td>Animation</td>\n",
       "      <td>Action</td>\n",
       "      <td>Adventure</td>\n",
       "      <td>NaN</td>\n",
       "      <td>U</td>\n",
       "    </tr>\n",
       "    <tr>\n",
       "      <th>1</th>\n",
       "      <td>The Dark Knight</td>\n",
       "      <td>Christopher Nolan</td>\n",
       "      <td>152 min</td>\n",
       "      <td>-2008</td>\n",
       "      <td>9.0</td>\n",
       "      <td>84.0</td>\n",
       "      <td>Christian Bale</td>\n",
       "      <td>Heath Ledger</td>\n",
       "      <td>Aaron Eckhart</td>\n",
       "      <td>Michael Caine</td>\n",
       "      <td>2723579</td>\n",
       "      <td>Action</td>\n",
       "      <td>Crime</td>\n",
       "      <td>Drama</td>\n",
       "      <td>$534.86M</td>\n",
       "      <td>UA</td>\n",
       "    </tr>\n",
       "    <tr>\n",
       "      <th>2</th>\n",
       "      <td>The Lord of the Rings: The Return of the King</td>\n",
       "      <td>Peter Jackson</td>\n",
       "      <td>201 min</td>\n",
       "      <td>-2003</td>\n",
       "      <td>9.0</td>\n",
       "      <td>94.0</td>\n",
       "      <td>Elijah Wood</td>\n",
       "      <td>Viggo Mortensen</td>\n",
       "      <td>Ian McKellen</td>\n",
       "      <td>Orlando Bloom</td>\n",
       "      <td>1890039</td>\n",
       "      <td>Action</td>\n",
       "      <td>Adventure</td>\n",
       "      <td>Drama</td>\n",
       "      <td>$377.85M</td>\n",
       "      <td>U</td>\n",
       "    </tr>\n",
       "    <tr>\n",
       "      <th>3</th>\n",
       "      <td>Inception</td>\n",
       "      <td>Christopher Nolan</td>\n",
       "      <td>148 min</td>\n",
       "      <td>-2010</td>\n",
       "      <td>8.8</td>\n",
       "      <td>74.0</td>\n",
       "      <td>Leonardo DiCaprio</td>\n",
       "      <td>Joseph Gordon-Levitt</td>\n",
       "      <td>Elliot Page</td>\n",
       "      <td>Ken Watanabe</td>\n",
       "      <td>2417423</td>\n",
       "      <td>Action</td>\n",
       "      <td>Adventure</td>\n",
       "      <td>Sci-Fi</td>\n",
       "      <td>$292.58M</td>\n",
       "      <td>UA</td>\n",
       "    </tr>\n",
       "    <tr>\n",
       "      <th>4</th>\n",
       "      <td>The Lord of the Rings: The Fellowship of the ...</td>\n",
       "      <td>Peter Jackson</td>\n",
       "      <td>178 min</td>\n",
       "      <td>-2001</td>\n",
       "      <td>8.8</td>\n",
       "      <td>92.0</td>\n",
       "      <td>Elijah Wood</td>\n",
       "      <td>Ian McKellen</td>\n",
       "      <td>Orlando Bloom</td>\n",
       "      <td>Sean Bean</td>\n",
       "      <td>1918633</td>\n",
       "      <td>Action</td>\n",
       "      <td>Adventure</td>\n",
       "      <td>Drama</td>\n",
       "      <td>$315.54M</td>\n",
       "      <td>U</td>\n",
       "    </tr>\n",
       "  </tbody>\n",
       "</table>\n",
       "</div>"
      ],
      "text/plain": [
       "                                          Movie Name           Director 1  \\\n",
       "0               Spider-Man: Across the Spider-Verse    Joaquim Dos Santos   \n",
       "1                                   The Dark Knight    Christopher Nolan    \n",
       "2     The Lord of the Rings: The Return of the King        Peter Jackson    \n",
       "3                                         Inception    Christopher Nolan    \n",
       "4   The Lord of the Rings: The Fellowship of the ...       Peter Jackson    \n",
       "\n",
       "  Duration Year of Release  Ratings  Metascore              Star 1  \\\n",
       "0  140 min           -2023      9.0       86.0       Shameik Moore   \n",
       "1  152 min           -2008      9.0       84.0      Christian Bale   \n",
       "2  201 min           -2003      9.0       94.0         Elijah Wood   \n",
       "3  148 min           -2010      8.8       74.0   Leonardo DiCaprio   \n",
       "4  178 min           -2001      8.8       92.0         Elijah Wood   \n",
       "\n",
       "                  Star 2              Star 3              Star 4    Votes  \\\n",
       "0       Hailee Steinfeld   Brian Tyree Henry   Luna Lauren Velez   106940   \n",
       "1           Heath Ledger       Aaron Eckhart       Michael Caine  2723579   \n",
       "2        Viggo Mortensen        Ian McKellen       Orlando Bloom  1890039   \n",
       "3   Joseph Gordon-Levitt         Elliot Page        Ken Watanabe  2417423   \n",
       "4           Ian McKellen       Orlando Bloom           Sean Bean  1918633   \n",
       "\n",
       "     Genre 1     Genre 2     Genre 3 Gross Collection Certification  \n",
       "0  Animation      Action   Adventure              NaN             U  \n",
       "1     Action       Crime       Drama         $534.86M            UA  \n",
       "2     Action   Adventure       Drama         $377.85M             U  \n",
       "3     Action   Adventure      Sci-Fi         $292.58M            UA  \n",
       "4     Action   Adventure       Drama         $315.54M             U  "
      ]
     },
     "execution_count": 18,
     "metadata": {},
     "output_type": "execute_result"
    }
   ],
   "source": [
    "#dropping columns director2,3,4,5,6 and dropping serial no. column also as it is of no use in our analysis\n",
    "IMDB_dataset_new=IMDB_dataset.drop(['Director 2','Director 3','Director 4','Director 5','Director 6','Serial no.'],axis=1)\n",
    "IMDB_dataset_new.head()"
   ]
  },
  {
   "cell_type": "markdown",
   "id": "f0d1a476",
   "metadata": {},
   "source": [
    "Columns has been removed"
   ]
  },
  {
   "cell_type": "code",
   "execution_count": 19,
   "id": "156770e2",
   "metadata": {},
   "outputs": [
    {
     "data": {
      "text/html": [
       "<div>\n",
       "<style scoped>\n",
       "    .dataframe tbody tr th:only-of-type {\n",
       "        vertical-align: middle;\n",
       "    }\n",
       "\n",
       "    .dataframe tbody tr th {\n",
       "        vertical-align: top;\n",
       "    }\n",
       "\n",
       "    .dataframe thead th {\n",
       "        text-align: right;\n",
       "    }\n",
       "</style>\n",
       "<table border=\"1\" class=\"dataframe\">\n",
       "  <thead>\n",
       "    <tr style=\"text-align: right;\">\n",
       "      <th></th>\n",
       "      <th>Ratings</th>\n",
       "      <th>Metascore</th>\n",
       "      <th>Votes</th>\n",
       "    </tr>\n",
       "  </thead>\n",
       "  <tbody>\n",
       "    <tr>\n",
       "      <th>count</th>\n",
       "      <td>1838.000000</td>\n",
       "      <td>1645.000000</td>\n",
       "      <td>1.838000e+03</td>\n",
       "    </tr>\n",
       "    <tr>\n",
       "      <th>mean</th>\n",
       "      <td>6.474701</td>\n",
       "      <td>53.230395</td>\n",
       "      <td>1.817259e+05</td>\n",
       "    </tr>\n",
       "    <tr>\n",
       "      <th>std</th>\n",
       "      <td>0.997573</td>\n",
       "      <td>16.272984</td>\n",
       "      <td>2.365310e+05</td>\n",
       "    </tr>\n",
       "    <tr>\n",
       "      <th>min</th>\n",
       "      <td>1.200000</td>\n",
       "      <td>9.000000</td>\n",
       "      <td>2.501000e+04</td>\n",
       "    </tr>\n",
       "    <tr>\n",
       "      <th>25%</th>\n",
       "      <td>5.900000</td>\n",
       "      <td>41.000000</td>\n",
       "      <td>4.766425e+04</td>\n",
       "    </tr>\n",
       "    <tr>\n",
       "      <th>50%</th>\n",
       "      <td>6.500000</td>\n",
       "      <td>53.000000</td>\n",
       "      <td>9.691850e+04</td>\n",
       "    </tr>\n",
       "    <tr>\n",
       "      <th>75%</th>\n",
       "      <td>7.100000</td>\n",
       "      <td>65.000000</td>\n",
       "      <td>2.139278e+05</td>\n",
       "    </tr>\n",
       "    <tr>\n",
       "      <th>max</th>\n",
       "      <td>9.000000</td>\n",
       "      <td>98.000000</td>\n",
       "      <td>2.723579e+06</td>\n",
       "    </tr>\n",
       "  </tbody>\n",
       "</table>\n",
       "</div>"
      ],
      "text/plain": [
       "           Ratings    Metascore         Votes\n",
       "count  1838.000000  1645.000000  1.838000e+03\n",
       "mean      6.474701    53.230395  1.817259e+05\n",
       "std       0.997573    16.272984  2.365310e+05\n",
       "min       1.200000     9.000000  2.501000e+04\n",
       "25%       5.900000    41.000000  4.766425e+04\n",
       "50%       6.500000    53.000000  9.691850e+04\n",
       "75%       7.100000    65.000000  2.139278e+05\n",
       "max       9.000000    98.000000  2.723579e+06"
      ]
     },
     "execution_count": 19,
     "metadata": {},
     "output_type": "execute_result"
    }
   ],
   "source": [
    "#Checking the summary of numeric columns\n",
    "IMDB_dataset_new.describe()"
   ]
  },
  {
   "cell_type": "code",
   "execution_count": 20,
   "id": "9e2d2685",
   "metadata": {
    "scrolled": true
   },
   "outputs": [
    {
     "data": {
      "text/plain": [
       "<AxesSubplot:>"
      ]
     },
     "execution_count": 20,
     "metadata": {},
     "output_type": "execute_result"
    },
    {
     "data": {
      "image/png": "[encoded data removed]",
      "text/plain": [
       "<Figure size 576x288 with 1 Axes>"
      ]
     },
     "metadata": {
      "needs_background": "light"
     },
     "output_type": "display_data"
    }
   ],
   "source": [
    "#Year wise movies released in last 10 years\n",
    "IMDB_dataset_new['Year of Release'].value_counts().head(10).plot.bar(figsize=(8,4))\n"
   ]
  },
  {
   "cell_type": "markdown",
   "id": "4f6af6ae",
   "metadata": {},
   "source": [
    "Maximum no. of movies relased in year 2016"
   ]
  },
  {
   "cell_type": "code",
   "execution_count": 39,
   "id": "2a2b082b",
   "metadata": {},
   "outputs": [
    {
     "data": {
      "text/plain": [
       "<AxesSubplot:>"
      ]
     },
     "execution_count": 39,
     "metadata": {},
     "output_type": "execute_result"
    },
    {
     "data": {
      "image/png": "[encoded data removed]",
      "text/plain": [
       "<Figure size 864x288 with 1 Axes>"
      ]
     },
     "metadata": {
      "needs_background": "light"
     },
     "output_type": "display_data"
    }
   ],
   "source": [
    "#Directors with most number of movies\n",
    "IMDB_dataset_new['Director 1'].value_counts().head(10).plot.bar(figsize=(12,4))"
   ]
  },
  {
   "cell_type": "code",
   "execution_count": 43,
   "id": "2b314ea0",
   "metadata": {},
   "outputs": [
    {
     "data": {
      "text/plain": [
       "<AxesSubplot:ylabel='Director 1'>"
      ]
     },
     "execution_count": 43,
     "metadata": {},
     "output_type": "execute_result"
    },
    {
     "data": {
      "image/png": "[encoded data removed]",
      "text/plain": [
       "<Figure size 720x720 with 1 Axes>"
      ]
     },
     "metadata": {},
     "output_type": "display_data"
    }
   ],
   "source": [
    "#Plotting pie chart of TOp 10 directors with most no. of movies\n",
    "IMDB_dataset_new['Director 1'].value_counts()[:10].plot.pie(autopct='%1.1f%%',figsize=(10,10))"
   ]
  },
  {
   "cell_type": "code",
   "execution_count": 48,
   "id": "68ce01ca",
   "metadata": {},
   "outputs": [
    {
     "data": {
      "text/plain": [
       "<AxesSubplot:>"
      ]
     },
     "execution_count": 48,
     "metadata": {},
     "output_type": "execute_result"
    },
    {
     "data": {
      "image/png": "[encoded data removed]",
      "text/plain": [
       "<Figure size 864x288 with 1 Axes>"
      ]
     },
     "metadata": {
      "needs_background": "light"
     },
     "output_type": "display_data"
    }
   ],
   "source": [
    "#Actors with most number of movies\n",
    "IMDB_dataset_new['Star 1'].value_counts().head(10).plot.bar(figsize=(12,4))"
   ]
  },
  {
   "cell_type": "code",
   "execution_count": 49,
   "id": "63af4e3d",
   "metadata": {},
   "outputs": [
    {
     "data": {
      "text/plain": [
       "<AxesSubplot:>"
      ]
     },
     "execution_count": 49,
     "metadata": {},
     "output_type": "execute_result"
    },
    {
     "data": {
      "image/png": "[encoded data removed]",
      "text/plain": [
       "<Figure size 864x288 with 1 Axes>"
      ]
     },
     "metadata": {
      "needs_background": "light"
     },
     "output_type": "display_data"
    }
   ],
   "source": [
    "#Actors with most number of movies\n",
    "IMDB_dataset_new['Star 2'].value_counts().head(10).plot.bar(figsize=(12,4))"
   ]
  },
  {
   "cell_type": "code",
   "execution_count": 50,
   "id": "3bef9d8f",
   "metadata": {},
   "outputs": [
    {
     "data": {
      "text/plain": [
       "<AxesSubplot:>"
      ]
     },
     "execution_count": 50,
     "metadata": {},
     "output_type": "execute_result"
    },
    {
     "data": {
      "image/png": "[encoded data removed]",
      "text/plain": [
       "<Figure size 864x288 with 1 Axes>"
      ]
     },
     "metadata": {
      "needs_background": "light"
     },
     "output_type": "display_data"
    }
   ],
   "source": [
    "#Actors with most number of movies\n",
    "IMDB_dataset_new['Star 3'].value_counts().head(10).plot.bar(figsize=(12,4))"
   ]
  },
  {
   "cell_type": "code",
   "execution_count": 51,
   "id": "3a991ff6",
   "metadata": {},
   "outputs": [
    {
     "data": {
      "text/plain": [
       "<AxesSubplot:>"
      ]
     },
     "execution_count": 51,
     "metadata": {},
     "output_type": "execute_result"
    },
    {
     "data": {
      "image/png": "[encoded data removed]",
      "text/plain": [
       "<Figure size 864x288 with 1 Axes>"
      ]
     },
     "metadata": {
      "needs_background": "light"
     },
     "output_type": "display_data"
    }
   ],
   "source": [
    "#Actors with most number of movies\n",
    "IMDB_dataset_new['Star 4'].value_counts().head(10).plot.bar(figsize=(12,4))"
   ]
  },
  {
   "cell_type": "code",
   "execution_count": null,
   "id": "c6a45e2a",
   "metadata": {},
   "outputs": [],
   "source": []
  }
 ],
 "metadata": {
  "kernelspec": {
   "display_name": "Python 3 (ipykernel)",
   "language": "python",
   "name": "python3"
  },
  "language_info": {
   "codemirror_mode": {
    "name": "ipython",
    "version": 3
   },
   "file_extension": ".py",
   "mimetype": "text/x-python",
   "name": "python",
   "nbconvert_exporter": "python",
   "pygments_lexer": "ipython3",
   "version": "3.9.12"
  }
 },
 "nbformat": 4,
 "nbformat_minor": 5
}
